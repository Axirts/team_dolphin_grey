{
 "cells": [
  {
   "cell_type": "code",
   "execution_count": 1,
   "id": "953513fa",
   "metadata": {},
   "outputs": [],
   "source": [
    "import pandas as pd\n",
    "import matplotlib.pyplot as plt"
   ]
  },
  {
   "cell_type": "code",
   "execution_count": 3,
   "id": "61e4d2c7",
   "metadata": {},
   "outputs": [
    {
     "name": "stderr",
     "output_type": "stream",
     "text": [
      "/Users/yash/opt/anaconda3/lib/python3.8/site-packages/IPython/core/interactiveshell.py:3165: DtypeWarning: Columns (3) have mixed types.Specify dtype option on import or set low_memory=False.\n",
      "  has_raised = await self.run_ast_nodes(code_ast.body, cell_name,\n"
     ]
    },
    {
     "data": {
      "text/html": [
       "<div>\n",
       "<style scoped>\n",
       "    .dataframe tbody tr th:only-of-type {\n",
       "        vertical-align: middle;\n",
       "    }\n",
       "\n",
       "    .dataframe tbody tr th {\n",
       "        vertical-align: top;\n",
       "    }\n",
       "\n",
       "    .dataframe thead th {\n",
       "        text-align: right;\n",
       "    }\n",
       "</style>\n",
       "<table border=\"1\" class=\"dataframe\">\n",
       "  <thead>\n",
       "    <tr style=\"text-align: right;\">\n",
       "      <th></th>\n",
       "      <th>Provider Name</th>\n",
       "      <th>State</th>\n",
       "      <th>City</th>\n",
       "      <th>Payment</th>\n",
       "    </tr>\n",
       "  </thead>\n",
       "  <tbody>\n",
       "    <tr>\n",
       "      <th>0</th>\n",
       "      <td>BRANDON ASTIN DMD LLC</td>\n",
       "      <td>AK</td>\n",
       "      <td>ANCHOR POINT</td>\n",
       "      <td>$113,026</td>\n",
       "    </tr>\n",
       "    <tr>\n",
       "      <th>1</th>\n",
       "      <td>ELIZABETH WATNEY</td>\n",
       "      <td>AK</td>\n",
       "      <td>ANCHOR POINT</td>\n",
       "      <td>$724</td>\n",
       "    </tr>\n",
       "    <tr>\n",
       "      <th>2</th>\n",
       "      <td>A HAND UP BEHAVIOR SERVICES</td>\n",
       "      <td>AK</td>\n",
       "      <td>ANCHORAGE</td>\n",
       "      <td>$1,191</td>\n",
       "    </tr>\n",
       "  </tbody>\n",
       "</table>\n",
       "</div>"
      ],
      "text/plain": [
       "                 Provider Name State          City   Payment\n",
       "0        BRANDON ASTIN DMD LLC    AK  ANCHOR POINT  $113,026\n",
       "1             ELIZABETH WATNEY    AK  ANCHOR POINT      $724\n",
       "2  A HAND UP BEHAVIOR SERVICES    AK     ANCHORAGE    $1,191"
      ]
     },
     "execution_count": 3,
     "metadata": {},
     "output_type": "execute_result"
    }
   ],
   "source": [
    "hhs = pd.read_csv(\"../dataset/HHS_Provider_Relief_Fund.csv\")\n",
    "hhs.head(3)"
   ]
  },
  {
   "cell_type": "code",
   "execution_count": 4,
   "id": "a030e3db",
   "metadata": {},
   "outputs": [
    {
     "data": {
      "text/plain": [
       "(412702, 4)"
      ]
     },
     "execution_count": 4,
     "metadata": {},
     "output_type": "execute_result"
    }
   ],
   "source": [
    "hhs.shape"
   ]
  },
  {
   "cell_type": "code",
   "execution_count": 5,
   "id": "350e1010",
   "metadata": {
    "scrolled": false
   },
   "outputs": [
    {
     "data": {
      "text/plain": [
       "Provider Name    object\n",
       "State            object\n",
       "City             object\n",
       "Payment          object\n",
       "dtype: object"
      ]
     },
     "execution_count": 5,
     "metadata": {},
     "output_type": "execute_result"
    }
   ],
   "source": [
    "hhs.dtypes"
   ]
  },
  {
   "cell_type": "code",
   "execution_count": 6,
   "id": "936f7576",
   "metadata": {},
   "outputs": [
    {
     "name": "stderr",
     "output_type": "stream",
     "text": [
      "<ipython-input-6-92b9f70edfc1>:1: FutureWarning: The default value of regex will change from True to False in a future version.\n",
      "  hhs['Payment'] = hhs['Payment'].str.replace('[$,]','')\n"
     ]
    }
   ],
   "source": [
    "hhs['Payment'] = hhs['Payment'].str.replace('[$,]','')"
   ]
  },
  {
   "cell_type": "code",
   "execution_count": 7,
   "id": "8b6cfda4",
   "metadata": {},
   "outputs": [],
   "source": [
    "hhs['Payment'] = hhs['Payment'].str.strip()"
   ]
  },
  {
   "cell_type": "code",
   "execution_count": 8,
   "id": "773f0bf2",
   "metadata": {
    "scrolled": false
   },
   "outputs": [],
   "source": [
    "hhs['Payment'] = hhs['Payment'].astype(float)"
   ]
  },
  {
   "cell_type": "code",
   "execution_count": 9,
   "id": "d20a4359",
   "metadata": {},
   "outputs": [
    {
     "data": {
      "text/html": [
       "<div>\n",
       "<style scoped>\n",
       "    .dataframe tbody tr th:only-of-type {\n",
       "        vertical-align: middle;\n",
       "    }\n",
       "\n",
       "    .dataframe tbody tr th {\n",
       "        vertical-align: top;\n",
       "    }\n",
       "\n",
       "    .dataframe thead th {\n",
       "        text-align: right;\n",
       "    }\n",
       "</style>\n",
       "<table border=\"1\" class=\"dataframe\">\n",
       "  <thead>\n",
       "    <tr style=\"text-align: right;\">\n",
       "      <th></th>\n",
       "      <th>Provider Name</th>\n",
       "      <th>State</th>\n",
       "      <th>City</th>\n",
       "      <th>Payment</th>\n",
       "    </tr>\n",
       "  </thead>\n",
       "  <tbody>\n",
       "    <tr>\n",
       "      <th>0</th>\n",
       "      <td>BRANDON ASTIN DMD LLC</td>\n",
       "      <td>AK</td>\n",
       "      <td>ANCHOR POINT</td>\n",
       "      <td>113026.0</td>\n",
       "    </tr>\n",
       "    <tr>\n",
       "      <th>1</th>\n",
       "      <td>ELIZABETH WATNEY</td>\n",
       "      <td>AK</td>\n",
       "      <td>ANCHOR POINT</td>\n",
       "      <td>724.0</td>\n",
       "    </tr>\n",
       "    <tr>\n",
       "      <th>2</th>\n",
       "      <td>A HAND UP BEHAVIOR SERVICES</td>\n",
       "      <td>AK</td>\n",
       "      <td>ANCHORAGE</td>\n",
       "      <td>1191.0</td>\n",
       "    </tr>\n",
       "  </tbody>\n",
       "</table>\n",
       "</div>"
      ],
      "text/plain": [
       "                 Provider Name State          City   Payment\n",
       "0        BRANDON ASTIN DMD LLC    AK  ANCHOR POINT  113026.0\n",
       "1             ELIZABETH WATNEY    AK  ANCHOR POINT     724.0\n",
       "2  A HAND UP BEHAVIOR SERVICES    AK     ANCHORAGE    1191.0"
      ]
     },
     "execution_count": 9,
     "metadata": {},
     "output_type": "execute_result"
    }
   ],
   "source": [
    "hhs.head(3)"
   ]
  },
  {
   "cell_type": "code",
   "execution_count": 10,
   "id": "4d93f78f",
   "metadata": {},
   "outputs": [
    {
     "data": {
      "text/plain": [
       "Provider Name     object\n",
       "State             object\n",
       "City              object\n",
       "Payment          float64\n",
       "dtype: object"
      ]
     },
     "execution_count": 10,
     "metadata": {},
     "output_type": "execute_result"
    }
   ],
   "source": [
    "hhs.dtypes"
   ]
  },
  {
   "cell_type": "code",
   "execution_count": 11,
   "id": "5e8a57b7",
   "metadata": {},
   "outputs": [
    {
     "data": {
      "text/plain": [
       "Provider Name        0\n",
       "State                0\n",
       "City                 0\n",
       "Payment          19486\n",
       "dtype: int64"
      ]
     },
     "execution_count": 11,
     "metadata": {},
     "output_type": "execute_result"
    }
   ],
   "source": [
    "hhs.isnull().sum()"
   ]
  },
  {
   "cell_type": "code",
   "execution_count": 12,
   "id": "d17a1a30",
   "metadata": {},
   "outputs": [],
   "source": [
    "hhs['Payment'].fillna(value=0.0,inplace=True)"
   ]
  },
  {
   "cell_type": "code",
   "execution_count": 13,
   "id": "abe64bdf",
   "metadata": {},
   "outputs": [
    {
     "data": {
      "text/plain": [
       "count    4.127020e+05\n",
       "mean     2.708679e+05\n",
       "std      4.323425e+06\n",
       "min      0.000000e+00\n",
       "25%      1.603000e+03\n",
       "50%      1.100200e+04\n",
       "75%      4.354675e+04\n",
       "max      1.202843e+09\n",
       "Name: Payment, dtype: float64"
      ]
     },
     "execution_count": 13,
     "metadata": {},
     "output_type": "execute_result"
    }
   ],
   "source": [
    "hhs['Payment'].describe() "
   ]
  },
  {
   "cell_type": "code",
   "execution_count": 14,
   "id": "8c5eaf67",
   "metadata": {},
   "outputs": [
    {
     "data": {
      "text/plain": [
       "CA    50399\n",
       "NY    33092\n",
       "TX    31742\n",
       "FL    28484\n",
       "NJ    16779\n",
       "IL    15973\n",
       "PA    15789\n",
       "MI    13864\n",
       "OH    13434\n",
       "MA    11063\n",
       "GA    10590\n",
       "NC     9734\n",
       "Name: State, dtype: int64"
      ]
     },
     "execution_count": 14,
     "metadata": {},
     "output_type": "execute_result"
    }
   ],
   "source": [
    "hhs['State'].value_counts().head(12)"
   ]
  },
  {
   "cell_type": "code",
   "execution_count": 15,
   "id": "69ac73e3",
   "metadata": {
    "scrolled": false
   },
   "outputs": [
    {
     "data": {
      "text/plain": [
       "Text(0.5, 1.0, 'States')"
      ]
     },
     "execution_count": 15,
     "metadata": {},
     "output_type": "execute_result"
    },
    {
     "data": {
      "image/png": "[encoded data removed]",
      "text/plain": [
       "<Figure size 1440x360 with 1 Axes>"
      ]
     },
     "metadata": {
      "needs_background": "light"
     },
     "output_type": "display_data"
    }
   ],
   "source": [
    "plt.figure(figsize=(20,5))\n",
    "hhs['State'].value_counts().plot(kind='bar')\n",
    "plt.title(\"States\")"
   ]
  },
  {
   "cell_type": "code",
   "execution_count": 17,
   "id": "261f9829",
   "metadata": {},
   "outputs": [
    {
     "data": {
      "text/html": [
       "<div>\n",
       "<style scoped>\n",
       "    .dataframe tbody tr th:only-of-type {\n",
       "        vertical-align: middle;\n",
       "    }\n",
       "\n",
       "    .dataframe tbody tr th {\n",
       "        vertical-align: top;\n",
       "    }\n",
       "\n",
       "    .dataframe thead tr th {\n",
       "        text-align: left;\n",
       "    }\n",
       "\n",
       "    .dataframe thead tr:last-of-type th {\n",
       "        text-align: right;\n",
       "    }\n",
       "</style>\n",
       "<table border=\"1\" class=\"dataframe\">\n",
       "  <thead>\n",
       "    <tr>\n",
       "      <th></th>\n",
       "      <th colspan=\"2\" halign=\"left\">City</th>\n",
       "    </tr>\n",
       "    <tr>\n",
       "      <th></th>\n",
       "      <th>nunique</th>\n",
       "      <th>max</th>\n",
       "    </tr>\n",
       "    <tr>\n",
       "      <th>State</th>\n",
       "      <th></th>\n",
       "      <th></th>\n",
       "    </tr>\n",
       "  </thead>\n",
       "  <tbody>\n",
       "    <tr>\n",
       "      <th>AK</th>\n",
       "      <td>61</td>\n",
       "      <td>YAKUTAT</td>\n",
       "    </tr>\n",
       "    <tr>\n",
       "      <th>AL</th>\n",
       "      <td>339</td>\n",
       "      <td>YORK</td>\n",
       "    </tr>\n",
       "    <tr>\n",
       "      <th>AR</th>\n",
       "      <td>231</td>\n",
       "      <td>YELLVILLE</td>\n",
       "    </tr>\n",
       "    <tr>\n",
       "      <th>AS</th>\n",
       "      <td>38</td>\n",
       "      <td>XENIA OH</td>\n",
       "    </tr>\n",
       "    <tr>\n",
       "      <th>AZ</th>\n",
       "      <td>186</td>\n",
       "      <td>YUMA</td>\n",
       "    </tr>\n",
       "    <tr>\n",
       "      <th>CA</th>\n",
       "      <td>1079</td>\n",
       "      <td>YUCCA VALLEY</td>\n",
       "    </tr>\n",
       "    <tr>\n",
       "      <th>CO</th>\n",
       "      <td>276</td>\n",
       "      <td>YUMA</td>\n",
       "    </tr>\n",
       "    <tr>\n",
       "      <th>CT</th>\n",
       "      <td>254</td>\n",
       "      <td>YALESVILLE</td>\n",
       "    </tr>\n",
       "    <tr>\n",
       "      <th>DC</th>\n",
       "      <td>11</td>\n",
       "      <td>WSHINGTON</td>\n",
       "    </tr>\n",
       "    <tr>\n",
       "      <th>DE</th>\n",
       "      <td>68</td>\n",
       "      <td>WILMINGTON,</td>\n",
       "    </tr>\n",
       "    <tr>\n",
       "      <th>FL</th>\n",
       "      <td>696</td>\n",
       "      <td>ZEPHYRHILLS</td>\n",
       "    </tr>\n",
       "    <tr>\n",
       "      <th>FM</th>\n",
       "      <td>11</td>\n",
       "      <td>WYANDOTTE</td>\n",
       "    </tr>\n",
       "    <tr>\n",
       "      <th>GA</th>\n",
       "      <td>445</td>\n",
       "      <td>ZEBULON</td>\n",
       "    </tr>\n",
       "    <tr>\n",
       "      <th>GU</th>\n",
       "      <td>10</td>\n",
       "      <td>UPPER TUMON</td>\n",
       "    </tr>\n",
       "    <tr>\n",
       "      <th>HI</th>\n",
       "      <td>68</td>\n",
       "      <td>WAIPHU</td>\n",
       "    </tr>\n",
       "    <tr>\n",
       "      <th>IA</th>\n",
       "      <td>451</td>\n",
       "      <td>ZEARING</td>\n",
       "    </tr>\n",
       "    <tr>\n",
       "      <th>ID</th>\n",
       "      <td>135</td>\n",
       "      <td>WORLEY</td>\n",
       "    </tr>\n",
       "    <tr>\n",
       "      <th>IL</th>\n",
       "      <td>806</td>\n",
       "      <td>ZION</td>\n",
       "    </tr>\n",
       "    <tr>\n",
       "      <th>IN</th>\n",
       "      <td>340</td>\n",
       "      <td>ZIONSVILLE</td>\n",
       "    </tr>\n",
       "    <tr>\n",
       "      <th>KS</th>\n",
       "      <td>288</td>\n",
       "      <td>YATES CENTER</td>\n",
       "    </tr>\n",
       "    <tr>\n",
       "      <th>KY</th>\n",
       "      <td>326</td>\n",
       "      <td>WURTLAND</td>\n",
       "    </tr>\n",
       "    <tr>\n",
       "      <th>LA</th>\n",
       "      <td>285</td>\n",
       "      <td>ZWOLLE</td>\n",
       "    </tr>\n",
       "    <tr>\n",
       "      <th>MA</th>\n",
       "      <td>505</td>\n",
       "      <td>YARMOUTHPORT</td>\n",
       "    </tr>\n",
       "    <tr>\n",
       "      <th>MD</th>\n",
       "      <td>352</td>\n",
       "      <td>WORTON</td>\n",
       "    </tr>\n",
       "    <tr>\n",
       "      <th>ME</th>\n",
       "      <td>247</td>\n",
       "      <td>YORK</td>\n",
       "    </tr>\n",
       "    <tr>\n",
       "      <th>MH</th>\n",
       "      <td>3</td>\n",
       "      <td>TIMONIUM</td>\n",
       "    </tr>\n",
       "    <tr>\n",
       "      <th>MI</th>\n",
       "      <td>675</td>\n",
       "      <td>ZEELAND</td>\n",
       "    </tr>\n",
       "    <tr>\n",
       "      <th>MN</th>\n",
       "      <td>509</td>\n",
       "      <td>ZUMBROTA</td>\n",
       "    </tr>\n",
       "    <tr>\n",
       "      <th>MO</th>\n",
       "      <td>443</td>\n",
       "      <td>WRIGHT CITY</td>\n",
       "    </tr>\n",
       "    <tr>\n",
       "      <th>MP</th>\n",
       "      <td>2</td>\n",
       "      <td>SAIPAN</td>\n",
       "    </tr>\n",
       "    <tr>\n",
       "      <th>MS</th>\n",
       "      <td>229</td>\n",
       "      <td>YAZOO CITY</td>\n",
       "    </tr>\n",
       "    <tr>\n",
       "      <th>MT</th>\n",
       "      <td>124</td>\n",
       "      <td>WORDEN</td>\n",
       "    </tr>\n",
       "    <tr>\n",
       "      <th>NC</th>\n",
       "      <td>486</td>\n",
       "      <td>ZEBULON</td>\n",
       "    </tr>\n",
       "    <tr>\n",
       "      <th>ND</th>\n",
       "      <td>135</td>\n",
       "      <td>WYNDMERE</td>\n",
       "    </tr>\n",
       "    <tr>\n",
       "      <th>NE</th>\n",
       "      <td>302</td>\n",
       "      <td>YUTAN</td>\n",
       "    </tr>\n",
       "    <tr>\n",
       "      <th>NH</th>\n",
       "      <td>178</td>\n",
       "      <td>WOODSVILLE</td>\n",
       "    </tr>\n",
       "    <tr>\n",
       "      <th>NJ</th>\n",
       "      <td>749</td>\n",
       "      <td>YARDLEY</td>\n",
       "    </tr>\n",
       "    <tr>\n",
       "      <th>NM</th>\n",
       "      <td>129</td>\n",
       "      <td>ZUNI</td>\n",
       "    </tr>\n",
       "    <tr>\n",
       "      <th>NV</th>\n",
       "      <td>70</td>\n",
       "      <td>ZEPHYR COVE</td>\n",
       "    </tr>\n",
       "    <tr>\n",
       "      <th>NY</th>\n",
       "      <td>1213</td>\n",
       "      <td>YOUNGSTOWN</td>\n",
       "    </tr>\n",
       "    <tr>\n",
       "      <th>OH</th>\n",
       "      <td>886</td>\n",
       "      <td>ZANESVILLE</td>\n",
       "    </tr>\n",
       "    <tr>\n",
       "      <th>OK</th>\n",
       "      <td>257</td>\n",
       "      <td>YUKON</td>\n",
       "    </tr>\n",
       "    <tr>\n",
       "      <th>OR</th>\n",
       "      <td>200</td>\n",
       "      <td>YONCALLA</td>\n",
       "    </tr>\n",
       "    <tr>\n",
       "      <th>PA</th>\n",
       "      <td>1230</td>\n",
       "      <td>ZION GROVE</td>\n",
       "    </tr>\n",
       "    <tr>\n",
       "      <th>PR</th>\n",
       "      <td>140</td>\n",
       "      <td>YAUCO</td>\n",
       "    </tr>\n",
       "    <tr>\n",
       "      <th>PW</th>\n",
       "      <td>7</td>\n",
       "      <td>PLYMOUTH MEETING</td>\n",
       "    </tr>\n",
       "    <tr>\n",
       "      <th>Qu</th>\n",
       "      <td>1</td>\n",
       "      <td>MONTREAL</td>\n",
       "    </tr>\n",
       "    <tr>\n",
       "      <th>RI</th>\n",
       "      <td>70</td>\n",
       "      <td>WYOMING</td>\n",
       "    </tr>\n",
       "    <tr>\n",
       "      <th>SC</th>\n",
       "      <td>225</td>\n",
       "      <td>YORK</td>\n",
       "    </tr>\n",
       "    <tr>\n",
       "      <th>SD</th>\n",
       "      <td>157</td>\n",
       "      <td>YANKTON</td>\n",
       "    </tr>\n",
       "    <tr>\n",
       "      <th>TN</th>\n",
       "      <td>335</td>\n",
       "      <td>YUMA</td>\n",
       "    </tr>\n",
       "    <tr>\n",
       "      <th>TX</th>\n",
       "      <td>923</td>\n",
       "      <td>ZAVALLA</td>\n",
       "    </tr>\n",
       "    <tr>\n",
       "      <th>UT</th>\n",
       "      <td>173</td>\n",
       "      <td>WOODS CROSS</td>\n",
       "    </tr>\n",
       "    <tr>\n",
       "      <th>VA</th>\n",
       "      <td>451</td>\n",
       "      <td>ZION CROSSROADS</td>\n",
       "    </tr>\n",
       "    <tr>\n",
       "      <th>VI</th>\n",
       "      <td>17</td>\n",
       "      <td>WINCHESTER</td>\n",
       "    </tr>\n",
       "    <tr>\n",
       "      <th>VT</th>\n",
       "      <td>147</td>\n",
       "      <td>WORCESTER</td>\n",
       "    </tr>\n",
       "    <tr>\n",
       "      <th>WA</th>\n",
       "      <td>316</td>\n",
       "      <td>ZILLAH</td>\n",
       "    </tr>\n",
       "    <tr>\n",
       "      <th>WI</th>\n",
       "      <td>488</td>\n",
       "      <td>WRIGHTSTOWN</td>\n",
       "    </tr>\n",
       "    <tr>\n",
       "      <th>WV</th>\n",
       "      <td>256</td>\n",
       "      <td>WORLAND</td>\n",
       "    </tr>\n",
       "    <tr>\n",
       "      <th>WY</th>\n",
       "      <td>63</td>\n",
       "      <td>WORLAND</td>\n",
       "    </tr>\n",
       "  </tbody>\n",
       "</table>\n",
       "</div>"
      ],
      "text/plain": [
       "         City                  \n",
       "      nunique               max\n",
       "State                          \n",
       "AK         61           YAKUTAT\n",
       "AL        339              YORK\n",
       "AR        231         YELLVILLE\n",
       "AS         38          XENIA OH\n",
       "AZ        186              YUMA\n",
       "CA       1079      YUCCA VALLEY\n",
       "CO        276              YUMA\n",
       "CT        254        YALESVILLE\n",
       "DC         11         WSHINGTON\n",
       "DE         68       WILMINGTON,\n",
       "FL        696       ZEPHYRHILLS\n",
       "FM         11         WYANDOTTE\n",
       "GA        445           ZEBULON\n",
       "GU         10       UPPER TUMON\n",
       "HI         68            WAIPHU\n",
       "IA        451           ZEARING\n",
       "ID        135            WORLEY\n",
       "IL        806              ZION\n",
       "IN        340        ZIONSVILLE\n",
       "KS        288      YATES CENTER\n",
       "KY        326          WURTLAND\n",
       "LA        285            ZWOLLE\n",
       "MA        505      YARMOUTHPORT\n",
       "MD        352            WORTON\n",
       "ME        247              YORK\n",
       "MH          3          TIMONIUM\n",
       "MI        675           ZEELAND\n",
       "MN        509          ZUMBROTA\n",
       "MO        443       WRIGHT CITY\n",
       "MP          2            SAIPAN\n",
       "MS        229        YAZOO CITY\n",
       "MT        124            WORDEN\n",
       "NC        486           ZEBULON\n",
       "ND        135          WYNDMERE\n",
       "NE        302             YUTAN\n",
       "NH        178        WOODSVILLE\n",
       "NJ        749           YARDLEY\n",
       "NM        129              ZUNI\n",
       "NV         70       ZEPHYR COVE\n",
       "NY       1213        YOUNGSTOWN\n",
       "OH        886        ZANESVILLE\n",
       "OK        257             YUKON\n",
       "OR        200          YONCALLA\n",
       "PA       1230        ZION GROVE\n",
       "PR        140             YAUCO\n",
       "PW          7  PLYMOUTH MEETING\n",
       "Qu          1          MONTREAL\n",
       "RI         70           WYOMING\n",
       "SC        225              YORK\n",
       "SD        157           YANKTON\n",
       "TN        335              YUMA\n",
       "TX        923           ZAVALLA\n",
       "UT        173       WOODS CROSS\n",
       "VA        451   ZION CROSSROADS\n",
       "VI         17        WINCHESTER\n",
       "VT        147         WORCESTER\n",
       "WA        316            ZILLAH\n",
       "WI        488       WRIGHTSTOWN\n",
       "WV        256           WORLAND\n",
       "WY         63           WORLAND"
      ]
     },
     "execution_count": 17,
     "metadata": {},
     "output_type": "execute_result"
    }
   ],
   "source": [
    "hhs.groupby(by='State').agg({'City': ['nunique', 'max']})"
   ]
  },
  {
   "cell_type": "code",
   "execution_count": null,
   "id": "06e46055",
   "metadata": {},
   "outputs": [],
   "source": []
  }
 ],
 "metadata": {
  "kernelspec": {
   "display_name": "Python 3",
   "language": "python",
   "name": "python3"
  },
  "language_info": {
   "codemirror_mode": {
    "name": "ipython",
    "version": 3
   },
   "file_extension": ".py",
   "mimetype": "text/x-python",
   "name": "python",
   "nbconvert_exporter": "python",
   "pygments_lexer": "ipython3",
   "version": "3.8.8"
  }
 },
 "nbformat": 4,
 "nbformat_minor": 5
}
